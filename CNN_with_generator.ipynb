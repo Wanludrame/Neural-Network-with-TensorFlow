{
  "nbformat": 4,
  "nbformat_minor": 0,
  "metadata": {
    "colab": {
      "name": "Exercise4-Question.ipynb",
      "provenance": [],
      "include_colab_link": true
    },
    "kernelspec": {
      "name": "python3",
      "display_name": "Python 3"
    }
  },
  "cells": [
    {
      "cell_type": "markdown",
      "metadata": {
        "id": "view-in-github",
        "colab_type": "text"
      },
      "source": [
        "<a href=\"https://colab.research.google.com/github/Wanludrame/Neural-Network-with-TensorFlow/blob/master/Exercise4_Question.ipynb\" target=\"_parent\"><img src=\"https://colab.research.google.com/assets/colab-badge.svg\" alt=\"Open In Colab\"/></a>"
      ]
    },
    {
      "cell_type": "markdown",
      "metadata": {
        "id": "UncprnB0ymAE",
        "colab_type": "text"
      },
      "source": [
        "Below is code with a link to a happy or sad dataset which contains 80 images, 40 happy and 40 sad. \n",
        "Create a convolutional neural network that trains to 100% accuracy on these images,  which cancels training upon hitting training accuracy of >.999\n",
        "\n",
        "Hint -- it will work best with 3 convolutional layers."
      ]
    },
    {
      "cell_type": "code",
      "metadata": {
        "id": "7Vti6p3PxmpS",
        "colab_type": "code",
        "outputId": "607b8e41-fc62-4a18-bb3a-72ab75c91c09",
        "colab": {
          "base_uri": "https://localhost:8080/",
          "height": 247
        }
      },
      "source": [
        "import tensorflow as tf\n",
        "import os\n",
        "import zipfile\n",
        "\n",
        "\n",
        "DESIRED_ACCURACY = 0.999\n",
        "\n",
        "!wget --no-check-certificate \\\n",
        "    \"https://storage.googleapis.com/laurencemoroney-blog.appspot.com/happy-or-sad.zip\" \\\n",
        "    -O \"/tmp/happy-or-sad.zip\"\n",
        "\n",
        "zip_ref = zipfile.ZipFile(\"/tmp/happy-or-sad.zip\", 'r')\n",
        "zip_ref.extractall(\"/tmp/h-or-s\")\n",
        "zip_ref.close()\n",
        "\n",
        "class myCallback(tf.keras.callbacks.Callback):\n",
        "  def on_epoch_end(self, epoch, logs={}):\n",
        "      if logs.get('acc') > DESIRED_ACCURACY:\n",
        "          print('\\nReached 99.9% accuracy so cancelling training!')\n",
        "          self.model.stop_training = True\n",
        "\n",
        "callbacks = myCallback()"
      ],
      "execution_count": 0,
      "outputs": [
        {
          "output_type": "display_data",
          "data": {
            "text/html": [
              "<p style=\"color: red;\">\n",
              "The default version of TensorFlow in Colab will soon switch to TensorFlow 2.x.<br>\n",
              "We recommend you <a href=\"https://www.tensorflow.org/guide/migrate\" target=\"_blank\">upgrade</a> now \n",
              "or ensure your notebook will continue to use TensorFlow 1.x via the <code>%tensorflow_version 1.x</code> magic:\n",
              "<a href=\"https://colab.research.google.com/notebooks/tensorflow_version.ipynb\" target=\"_blank\">more info</a>.</p>\n"
            ],
            "text/plain": [
              "<IPython.core.display.HTML object>"
            ]
          },
          "metadata": {
            "tags": []
          }
        },
        {
          "output_type": "stream",
          "text": [
            "--2019-10-31 15:57:23--  https://storage.googleapis.com/laurencemoroney-blog.appspot.com/happy-or-sad.zip\n",
            "Resolving storage.googleapis.com (storage.googleapis.com)... 64.233.189.128, 2404:6800:4008:c07::80\n",
            "Connecting to storage.googleapis.com (storage.googleapis.com)|64.233.189.128|:443... connected.\n",
            "HTTP request sent, awaiting response... 200 OK\n",
            "Length: 2670333 (2.5M) [application/zip]\n",
            "Saving to: ‘/tmp/happy-or-sad.zip’\n",
            "\n",
            "\r/tmp/happy-or-sad.z   0%[                    ]       0  --.-KB/s               \r/tmp/happy-or-sad.z 100%[===================>]   2.55M  --.-KB/s    in 0.01s   \n",
            "\n",
            "2019-10-31 15:57:24 (222 MB/s) - ‘/tmp/happy-or-sad.zip’ saved [2670333/2670333]\n",
            "\n"
          ],
          "name": "stdout"
        }
      ]
    },
    {
      "cell_type": "code",
      "metadata": {
        "id": "6DLGbXXI1j_V",
        "colab_type": "code",
        "outputId": "79e8c941-2c11-4799-b0ea-61cccf5599ea",
        "colab": {
          "base_uri": "https://localhost:8080/",
          "height": 138
        }
      },
      "source": [
        "# This Code Block should Define and Compile the Model\n",
        "model = tf.keras.models.Sequential([\n",
        "        tf.keras.layers.Conv2D(16, (3, 3), activation='relu', input_shape=(150, 150, 3)),\n",
        "        tf.keras.layers.MaxPooling2D(2, 2),\n",
        "        tf.keras.layers.Conv2D(32, (3, 3), activation='relu'),\n",
        "        tf.keras.layers.MaxPooling2D(2, 2),\n",
        "        tf.keras.layers.Conv2D(64, (3, 3), activation='relu'),\n",
        "        tf.keras.layers.MaxPooling2D(2, 2),\n",
        "        tf.keras.layers.Flatten(),\n",
        "        tf.keras.layers.Dense(256, activation='relu'),\n",
        "        tf.keras.layers.Dense(1, activation='sigmoid')\n",
        "])\n",
        "\n",
        "from tensorflow.keras.optimizers import RMSprop\n",
        "\n",
        "model.compile(loss='binary_crossentropy',\n",
        "              optimizer=RMSprop(lr=0.001),\n",
        "              metrics=['acc'])"
      ],
      "execution_count": 0,
      "outputs": [
        {
          "output_type": "stream",
          "text": [
            "WARNING:tensorflow:From /usr/local/lib/python3.6/dist-packages/tensorflow_core/python/ops/resource_variable_ops.py:1630: calling BaseResourceVariable.__init__ (from tensorflow.python.ops.resource_variable_ops) with constraint is deprecated and will be removed in a future version.\n",
            "Instructions for updating:\n",
            "If using Keras pass *_constraint arguments to layers.\n",
            "WARNING:tensorflow:From /usr/local/lib/python3.6/dist-packages/tensorflow_core/python/ops/nn_impl.py:183: where (from tensorflow.python.ops.array_ops) is deprecated and will be removed in a future version.\n",
            "Instructions for updating:\n",
            "Use tf.where in 2.0, which has the same broadcast rule as np.where\n"
          ],
          "name": "stdout"
        }
      ]
    },
    {
      "cell_type": "code",
      "metadata": {
        "id": "4Ap9fUJE1vVu",
        "colab_type": "code",
        "outputId": "5337da13-0399-4ffe-ea4a-a53707e7dcef",
        "colab": {
          "base_uri": "https://localhost:8080/",
          "height": 34
        }
      },
      "source": [
        "# This code block should create an instance of an ImageDataGenerator called train_datagen \n",
        "# And a train_generator by calling train_datagen.flow_from_directory\n",
        "\n",
        "from tensorflow.keras.preprocessing.image import ImageDataGenerator\n",
        "\n",
        "train_datagen = ImageDataGenerator(rescale=1/255.0)\n",
        "\n",
        "train_generator = train_datagen.flow_from_directory(\n",
        "        '/tmp/h-or-s',\n",
        "        target_size=(150, 150),\n",
        "        batch_size=32,\n",
        "        class_mode='binary')\n",
        "\n",
        "# Expected output: 'Found 80 images belonging to 2 classes'"
      ],
      "execution_count": 0,
      "outputs": [
        {
          "output_type": "stream",
          "text": [
            "Found 80 images belonging to 2 classes.\n"
          ],
          "name": "stdout"
        }
      ]
    },
    {
      "cell_type": "code",
      "metadata": {
        "id": "48dLm13U1-Le",
        "colab_type": "code",
        "outputId": "f79761cc-fe50-4cda-fc05-26cdfc8aed14",
        "colab": {
          "base_uri": "https://localhost:8080/",
          "height": 454
        }
      },
      "source": [
        "# This code block should call model.fit_generator and train for\n",
        "# a number of epochs. \n",
        "history = model.fit_generator(\n",
        "      train_generator,\n",
        "      steps_per_epoch=4,\n",
        "      epochs=20,\n",
        "      verbose=1,\n",
        "      callbacks=[callbacks])\n",
        "    \n",
        "# Expected output: \"Reached 99.9% accuracy so cancelling training!\"\""
      ],
      "execution_count": 0,
      "outputs": [
        {
          "output_type": "stream",
          "text": [
            "Epoch 1/20\n",
            "4/4 [==============================] - 3s 757ms/step - loss: 3.7014 - acc: 0.4167\n",
            "Epoch 2/20\n",
            "4/4 [==============================] - 2s 569ms/step - loss: 0.6282 - acc: 0.6786\n",
            "Epoch 3/20\n",
            "4/4 [==============================] - 2s 595ms/step - loss: 0.6858 - acc: 0.6875\n",
            "Epoch 4/20\n",
            "4/4 [==============================] - 2s 562ms/step - loss: 0.2911 - acc: 0.9018\n",
            "Epoch 5/20\n",
            "4/4 [==============================] - 2s 491ms/step - loss: 0.1351 - acc: 0.9479\n",
            "Epoch 6/20\n",
            "4/4 [==============================] - 2s 590ms/step - loss: 0.1539 - acc: 0.9375\n",
            "Epoch 7/20\n",
            "4/4 [==============================] - 2s 573ms/step - loss: 0.1063 - acc: 0.9464\n",
            "Epoch 8/20\n",
            "4/4 [==============================] - 2s 511ms/step - loss: 0.1027 - acc: 0.9583\n",
            "Epoch 9/20\n",
            "4/4 [==============================] - 2s 598ms/step - loss: 0.0575 - acc: 0.9643\n",
            "Epoch 10/20\n",
            "4/4 [==============================] - 2s 499ms/step - loss: 0.1038 - acc: 0.9583\n",
            "Epoch 11/20\n",
            "4/4 [==============================] - 2s 571ms/step - loss: 0.0434 - acc: 0.9911\n",
            "Epoch 12/20\n",
            "3/4 [=====================>........] - ETA: 0s - loss: 0.0190 - acc: 1.0000\n",
            "Reached 99.9% accuracy so cancelling training!\n",
            "4/4 [==============================] - 2s 599ms/step - loss: 0.0169 - acc: 1.0000\n"
          ],
          "name": "stdout"
        }
      ]
    }
  ]
}
