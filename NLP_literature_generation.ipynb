{
  "nbformat": 4,
  "nbformat_minor": 0,
  "metadata": {
    "colab": {
      "name": "NLP-Week4-Exercise-Shakespeare-Question.ipynb",
      "provenance": [],
      "include_colab_link": true
    },
    "kernelspec": {
      "name": "python3",
      "display_name": "Python 3"
    },
    "accelerator": "GPU"
  },
  "cells": [
    {
      "cell_type": "markdown",
      "metadata": {
        "id": "view-in-github",
        "colab_type": "text"
      },
      "source": [
        "<a href=\"https://colab.research.google.com/github/Wanludrame/Neural-Network-with-TensorFlow/blob/master/NLP_literature_generation.ipynb\" target=\"_parent\"><img src=\"https://colab.research.google.com/assets/colab-badge.svg\" alt=\"Open In Colab\"/></a>"
      ]
    },
    {
      "cell_type": "code",
      "metadata": {
        "id": "BOwsuGQQY9OL",
        "colab_type": "code",
        "outputId": "827c7014-1ea5-4bcf-bb3c-b0043a1ca924",
        "colab": {
          "base_uri": "https://localhost:8080/",
          "height": 62
        }
      },
      "source": [
        "from tensorflow.keras.preprocessing.sequence import pad_sequences\n",
        "from tensorflow.keras.layers import Embedding, LSTM, Dense, Dropout, Bidirectional\n",
        "from tensorflow.keras.preprocessing.text import Tokenizer\n",
        "from tensorflow.keras.models import Sequential\n",
        "from tensorflow.keras.optimizers import Adam\n",
        "from tensorflow.keras import regularizers\n",
        "import tensorflow.keras.utils as ku \n",
        "import numpy as np "
      ],
      "execution_count": 0,
      "outputs": [
        {
          "output_type": "display_data",
          "data": {
            "text/html": [
              "<p style=\"color: red;\">\n",
              "The default version of TensorFlow in Colab will soon switch to TensorFlow 2.x.<br>\n",
              "We recommend you <a href=\"https://www.tensorflow.org/guide/migrate\" target=\"_blank\">upgrade</a> now \n",
              "or ensure your notebook will continue to use TensorFlow 1.x via the <code>%tensorflow_version 1.x</code> magic:\n",
              "<a href=\"https://colab.research.google.com/notebooks/tensorflow_version.ipynb\" target=\"_blank\">more info</a>.</p>\n"
            ],
            "text/plain": [
              "<IPython.core.display.HTML object>"
            ]
          },
          "metadata": {
            "tags": []
          }
        }
      ]
    },
    {
      "cell_type": "code",
      "metadata": {
        "colab_type": "code",
        "id": "PRnDnCW-Z7qv",
        "outputId": "ac728bfb-000a-4e84-a76d-3841fa559ad4",
        "colab": {
          "base_uri": "https://localhost:8080/",
          "height": 202
        }
      },
      "source": [
        "tokenizer = Tokenizer()\n",
        "!wget --no-check-certificate \\\n",
        "    https://storage.googleapis.com/laurencemoroney-blog.appspot.com/sonnets.txt \\\n",
        "    -O /tmp/sonnets.txt\n",
        "data = open('/tmp/sonnets.txt').read()\n",
        "\n",
        "corpus = data.lower().split(\"\\n\")\n",
        "\n",
        "\n",
        "tokenizer.fit_on_texts(corpus)\n",
        "total_words = len(tokenizer.word_index) + 1\n",
        "\n",
        "# create input sequences using list of tokens\n",
        "input_sequences = []\n",
        "for line in corpus:\n",
        "\ttoken_list = tokenizer.texts_to_sequences([line])[0]\n",
        "\tfor i in range(1, len(token_list)):\n",
        "\t\tn_gram_sequence = token_list[:i+1]\n",
        "\t\tinput_sequences.append(n_gram_sequence)\n",
        "\n",
        "\n",
        "# pad sequences \n",
        "max_sequence_len = max([len(x) for x in input_sequences])\n",
        "input_sequences = np.array(pad_sequences(input_sequences, maxlen=max_sequence_len, padding='pre'))\n",
        "\n",
        "# create predictors and label\n",
        "predictors, label = input_sequences[:,:-1],input_sequences[:,-1]\n",
        "\n",
        "label = ku.to_categorical(label, num_classes=total_words)"
      ],
      "execution_count": 0,
      "outputs": [
        {
          "output_type": "stream",
          "text": [
            "--2019-12-10 22:56:32--  https://storage.googleapis.com/laurencemoroney-blog.appspot.com/sonnets.txt\n",
            "Resolving storage.googleapis.com (storage.googleapis.com)... 108.177.96.128, 2a00:1450:4013:c07::80\n",
            "Connecting to storage.googleapis.com (storage.googleapis.com)|108.177.96.128|:443... connected.\n",
            "HTTP request sent, awaiting response... 200 OK\n",
            "Length: 93578 (91K) [text/plain]\n",
            "Saving to: ‘/tmp/sonnets.txt’\n",
            "\n",
            "/tmp/sonnets.txt    100%[===================>]  91.38K  --.-KB/s    in 0.001s  \n",
            "\n",
            "2019-12-10 22:56:32 (159 MB/s) - ‘/tmp/sonnets.txt’ saved [93578/93578]\n",
            "\n"
          ],
          "name": "stdout"
        }
      ]
    },
    {
      "cell_type": "code",
      "metadata": {
        "id": "w9vH8Y59ajYL",
        "colab_type": "code",
        "outputId": "3b22e6b3-6149-4c6d-f2b7-0e5fad8257e5",
        "colab": {
          "base_uri": "https://localhost:8080/",
          "height": 370
        }
      },
      "source": [
        "model = Sequential()\n",
        "model.add(Embedding(total_words, 96, input_length=max_sequence_len-1))\n",
        "model.add(Bidirectional(LSTM(128, return_sequences=True)))\n",
        "model.add(Dropout(0.2))\n",
        "model.add(LSTM(128))\n",
        "model.add(Dense(1024, activation='relu', kernel_regularizer=regularizers.l2(0.01)))\n",
        "model.add(Dense(total_words, activation='softmax'))\n",
        "\n",
        "model.compile(loss='categorical_crossentropy', optimizer='adam', metrics=['accuracy'])\n",
        "print(model.summary())"
      ],
      "execution_count": 0,
      "outputs": [
        {
          "output_type": "stream",
          "text": [
            "Model: \"sequential_2\"\n",
            "_________________________________________________________________\n",
            "Layer (type)                 Output Shape              Param #   \n",
            "=================================================================\n",
            "embedding_2 (Embedding)      (None, 10, 96)            308256    \n",
            "_________________________________________________________________\n",
            "bidirectional_2 (Bidirection (None, 10, 256)           230400    \n",
            "_________________________________________________________________\n",
            "dropout_2 (Dropout)          (None, 10, 256)           0         \n",
            "_________________________________________________________________\n",
            "lstm_5 (LSTM)                (None, 128)               197120    \n",
            "_________________________________________________________________\n",
            "dense_4 (Dense)              (None, 1024)              132096    \n",
            "_________________________________________________________________\n",
            "dense_5 (Dense)              (None, 3211)              3291275   \n",
            "=================================================================\n",
            "Total params: 4,159,147\n",
            "Trainable params: 4,159,147\n",
            "Non-trainable params: 0\n",
            "_________________________________________________________________\n",
            "None\n"
          ],
          "name": "stdout"
        }
      ]
    },
    {
      "cell_type": "code",
      "metadata": {
        "id": "AIg2f1HBxqof",
        "colab_type": "code",
        "outputId": "95de037f-f08b-4026-e1f9-3fe441dfb8d6",
        "colab": {
          "base_uri": "https://localhost:8080/",
          "height": 1000
        }
      },
      "source": [
        " history = model.fit(predictors, label, epochs=100, verbose=1)"
      ],
      "execution_count": 0,
      "outputs": [
        {
          "output_type": "stream",
          "text": [
            "Train on 15462 samples\n",
            "Epoch 1/100\n",
            "15462/15462 [==============================] - 21s 1ms/sample - loss: 6.9495 - acc: 0.0200\n",
            "Epoch 2/100\n",
            "15462/15462 [==============================] - 19s 1ms/sample - loss: 6.5022 - acc: 0.0215\n",
            "Epoch 3/100\n",
            "15462/15462 [==============================] - 20s 1ms/sample - loss: 6.3808 - acc: 0.0254\n",
            "Epoch 4/100\n",
            "15462/15462 [==============================] - 20s 1ms/sample - loss: 6.2516 - acc: 0.0289\n",
            "Epoch 5/100\n",
            "15462/15462 [==============================] - 20s 1ms/sample - loss: 6.1607 - acc: 0.0354\n",
            "Epoch 6/100\n",
            "15462/15462 [==============================] - 20s 1ms/sample - loss: 6.0756 - acc: 0.0376\n",
            "Epoch 7/100\n",
            "15462/15462 [==============================] - 20s 1ms/sample - loss: 5.9924 - acc: 0.0406\n",
            "Epoch 8/100\n",
            "15462/15462 [==============================] - 20s 1ms/sample - loss: 5.9094 - acc: 0.0451\n",
            "Epoch 9/100\n",
            "15462/15462 [==============================] - 19s 1ms/sample - loss: 5.8182 - acc: 0.0462\n",
            "Epoch 10/100\n",
            "15462/15462 [==============================] - 19s 1ms/sample - loss: 5.7219 - acc: 0.0531\n",
            "Epoch 11/100\n",
            "15462/15462 [==============================] - 20s 1ms/sample - loss: 5.6195 - acc: 0.0604\n",
            "Epoch 12/100\n",
            "15462/15462 [==============================] - 19s 1ms/sample - loss: 5.5152 - acc: 0.0650\n",
            "Epoch 13/100\n",
            "15462/15462 [==============================] - 20s 1ms/sample - loss: 5.4200 - acc: 0.0704\n",
            "Epoch 14/100\n",
            "15462/15462 [==============================] - 20s 1ms/sample - loss: 5.3209 - acc: 0.0796\n",
            "Epoch 15/100\n",
            "15462/15462 [==============================] - 20s 1ms/sample - loss: 5.2277 - acc: 0.0853\n",
            "Epoch 16/100\n",
            "15462/15462 [==============================] - 20s 1ms/sample - loss: 5.1350 - acc: 0.0936\n",
            "Epoch 17/100\n",
            "15462/15462 [==============================] - 20s 1ms/sample - loss: 5.0364 - acc: 0.1006\n",
            "Epoch 18/100\n",
            "15462/15462 [==============================] - 20s 1ms/sample - loss: 4.9472 - acc: 0.1112\n",
            "Epoch 19/100\n",
            "15462/15462 [==============================] - 20s 1ms/sample - loss: 4.8518 - acc: 0.1141\n",
            "Epoch 20/100\n",
            "15462/15462 [==============================] - 20s 1ms/sample - loss: 4.7562 - acc: 0.1242\n",
            "Epoch 21/100\n",
            "15462/15462 [==============================] - 20s 1ms/sample - loss: 4.6585 - acc: 0.1340\n",
            "Epoch 22/100\n",
            "15462/15462 [==============================] - 20s 1ms/sample - loss: 4.5668 - acc: 0.1417\n",
            "Epoch 23/100\n",
            "15462/15462 [==============================] - 20s 1ms/sample - loss: 4.4693 - acc: 0.1536\n",
            "Epoch 24/100\n",
            "15462/15462 [==============================] - 20s 1ms/sample - loss: 4.3743 - acc: 0.1627\n",
            "Epoch 25/100\n",
            "15462/15462 [==============================] - 20s 1ms/sample - loss: 4.2787 - acc: 0.1780\n",
            "Epoch 26/100\n",
            "15462/15462 [==============================] - 20s 1ms/sample - loss: 4.1799 - acc: 0.1889\n",
            "Epoch 27/100\n",
            "15462/15462 [==============================] - 20s 1ms/sample - loss: 4.0826 - acc: 0.2005\n",
            "Epoch 28/100\n",
            "15462/15462 [==============================] - 20s 1ms/sample - loss: 3.9882 - acc: 0.2154\n",
            "Epoch 29/100\n",
            "15462/15462 [==============================] - 20s 1ms/sample - loss: 3.8926 - acc: 0.2284\n",
            "Epoch 30/100\n",
            "15462/15462 [==============================] - 20s 1ms/sample - loss: 3.8059 - acc: 0.2421\n",
            "Epoch 31/100\n",
            "15462/15462 [==============================] - 21s 1ms/sample - loss: 3.7248 - acc: 0.2541\n",
            "Epoch 32/100\n",
            "15462/15462 [==============================] - 20s 1ms/sample - loss: 3.6299 - acc: 0.2760\n",
            "Epoch 33/100\n",
            "15462/15462 [==============================] - 20s 1ms/sample - loss: 3.5370 - acc: 0.2928\n",
            "Epoch 34/100\n",
            "15462/15462 [==============================] - 20s 1ms/sample - loss: 3.4602 - acc: 0.3076\n",
            "Epoch 35/100\n",
            "15462/15462 [==============================] - 20s 1ms/sample - loss: 3.3829 - acc: 0.3254\n",
            "Epoch 36/100\n",
            "15462/15462 [==============================] - 20s 1ms/sample - loss: 3.2971 - acc: 0.3444\n",
            "Epoch 37/100\n",
            "15462/15462 [==============================] - 21s 1ms/sample - loss: 3.2180 - acc: 0.3661\n",
            "Epoch 38/100\n",
            "15462/15462 [==============================] - 21s 1ms/sample - loss: 3.1452 - acc: 0.3820\n",
            "Epoch 39/100\n",
            "15462/15462 [==============================] - 20s 1ms/sample - loss: 3.0783 - acc: 0.3961\n",
            "Epoch 40/100\n",
            "15462/15462 [==============================] - 20s 1ms/sample - loss: 3.0063 - acc: 0.4118\n",
            "Epoch 41/100\n",
            "15462/15462 [==============================] - 20s 1ms/sample - loss: 2.9299 - acc: 0.4316\n",
            "Epoch 42/100\n",
            "15462/15462 [==============================] - 21s 1ms/sample - loss: 2.8718 - acc: 0.4419\n",
            "Epoch 43/100\n",
            "15462/15462 [==============================] - 20s 1ms/sample - loss: 2.8180 - acc: 0.4523\n",
            "Epoch 44/100\n",
            "15462/15462 [==============================] - 20s 1ms/sample - loss: 2.7493 - acc: 0.4688\n",
            "Epoch 45/100\n",
            "15462/15462 [==============================] - 20s 1ms/sample - loss: 2.6811 - acc: 0.4851\n",
            "Epoch 46/100\n",
            "15462/15462 [==============================] - 20s 1ms/sample - loss: 2.6427 - acc: 0.4951\n",
            "Epoch 47/100\n",
            "15462/15462 [==============================] - 20s 1ms/sample - loss: 2.5854 - acc: 0.5089\n",
            "Epoch 48/100\n",
            "15462/15462 [==============================] - 20s 1ms/sample - loss: 2.5329 - acc: 0.5175\n",
            "Epoch 49/100\n",
            "15462/15462 [==============================] - 20s 1ms/sample - loss: 2.4769 - acc: 0.5340\n",
            "Epoch 50/100\n",
            "15462/15462 [==============================] - 19s 1ms/sample - loss: 2.4220 - acc: 0.5477\n",
            "Epoch 51/100\n",
            "15462/15462 [==============================] - 20s 1ms/sample - loss: 2.3869 - acc: 0.5512\n",
            "Epoch 52/100\n",
            "15462/15462 [==============================] - 20s 1ms/sample - loss: 2.3473 - acc: 0.5609\n",
            "Epoch 53/100\n",
            "15462/15462 [==============================] - 20s 1ms/sample - loss: 2.2945 - acc: 0.5752\n",
            "Epoch 54/100\n",
            "15462/15462 [==============================] - 19s 1ms/sample - loss: 2.2430 - acc: 0.5835\n",
            "Epoch 55/100\n",
            "15462/15462 [==============================] - 19s 1ms/sample - loss: 2.2158 - acc: 0.5896\n",
            "Epoch 56/100\n",
            "15462/15462 [==============================] - 19s 1ms/sample - loss: 2.1653 - acc: 0.6028\n",
            "Epoch 57/100\n",
            "15462/15462 [==============================] - 20s 1ms/sample - loss: 2.1325 - acc: 0.6068\n",
            "Epoch 58/100\n",
            "15462/15462 [==============================] - 20s 1ms/sample - loss: 2.0931 - acc: 0.6165\n",
            "Epoch 59/100\n",
            "15462/15462 [==============================] - 19s 1ms/sample - loss: 2.0589 - acc: 0.6250\n",
            "Epoch 60/100\n",
            "15462/15462 [==============================] - 20s 1ms/sample - loss: 2.0284 - acc: 0.6317\n",
            "Epoch 61/100\n",
            "15462/15462 [==============================] - 20s 1ms/sample - loss: 1.9892 - acc: 0.6405\n",
            "Epoch 62/100\n",
            "15462/15462 [==============================] - 19s 1ms/sample - loss: 1.9648 - acc: 0.6458\n",
            "Epoch 63/100\n",
            "15462/15462 [==============================] - 19s 1ms/sample - loss: 1.9219 - acc: 0.6552\n",
            "Epoch 64/100\n",
            "15462/15462 [==============================] - 19s 1ms/sample - loss: 1.8995 - acc: 0.6607\n",
            "Epoch 65/100\n",
            "15462/15462 [==============================] - 19s 1ms/sample - loss: 1.8706 - acc: 0.6674\n",
            "Epoch 66/100\n",
            "15462/15462 [==============================] - 19s 1ms/sample - loss: 1.8311 - acc: 0.6771\n",
            "Epoch 67/100\n",
            "15462/15462 [==============================] - 19s 1ms/sample - loss: 1.8157 - acc: 0.6792\n",
            "Epoch 68/100\n",
            "15462/15462 [==============================] - 19s 1ms/sample - loss: 1.7749 - acc: 0.6841\n",
            "Epoch 69/100\n",
            "15462/15462 [==============================] - 19s 1ms/sample - loss: 1.7571 - acc: 0.6897\n",
            "Epoch 70/100\n",
            "15462/15462 [==============================] - 19s 1ms/sample - loss: 1.7335 - acc: 0.6945\n",
            "Epoch 71/100\n",
            "15462/15462 [==============================] - 19s 1ms/sample - loss: 1.7040 - acc: 0.7004\n",
            "Epoch 72/100\n",
            "15462/15462 [==============================] - 19s 1ms/sample - loss: 1.6764 - acc: 0.7045\n",
            "Epoch 73/100\n",
            "15462/15462 [==============================] - 19s 1ms/sample - loss: 1.6582 - acc: 0.7108\n",
            "Epoch 74/100\n",
            "15462/15462 [==============================] - 20s 1ms/sample - loss: 1.6414 - acc: 0.7118\n",
            "Epoch 75/100\n",
            "15462/15462 [==============================] - 19s 1ms/sample - loss: 1.6148 - acc: 0.7165\n",
            "Epoch 76/100\n",
            "15462/15462 [==============================] - 19s 1ms/sample - loss: 1.5808 - acc: 0.7247\n",
            "Epoch 77/100\n",
            "15462/15462 [==============================] - 19s 1ms/sample - loss: 1.5617 - acc: 0.7288\n",
            "Epoch 78/100\n",
            "15462/15462 [==============================] - 19s 1ms/sample - loss: 1.5652 - acc: 0.7266\n",
            "Epoch 79/100\n",
            "15462/15462 [==============================] - 20s 1ms/sample - loss: 1.5432 - acc: 0.7295\n",
            "Epoch 80/100\n",
            "15462/15462 [==============================] - 20s 1ms/sample - loss: 1.5101 - acc: 0.7399\n",
            "Epoch 81/100\n",
            "15462/15462 [==============================] - 19s 1ms/sample - loss: 1.4914 - acc: 0.7425\n",
            "Epoch 82/100\n",
            "15462/15462 [==============================] - 20s 1ms/sample - loss: 1.4707 - acc: 0.7430\n",
            "Epoch 83/100\n",
            "15462/15462 [==============================] - 19s 1ms/sample - loss: 1.4645 - acc: 0.7478\n",
            "Epoch 84/100\n",
            "15462/15462 [==============================] - 19s 1ms/sample - loss: 1.4323 - acc: 0.7548\n",
            "Epoch 85/100\n",
            "15462/15462 [==============================] - 19s 1ms/sample - loss: 1.4283 - acc: 0.7553\n",
            "Epoch 86/100\n",
            "15462/15462 [==============================] - 20s 1ms/sample - loss: 1.4148 - acc: 0.7564\n",
            "Epoch 87/100\n",
            "15462/15462 [==============================] - 19s 1ms/sample - loss: 1.3999 - acc: 0.7574\n",
            "Epoch 88/100\n",
            "15462/15462 [==============================] - 19s 1ms/sample - loss: 1.3679 - acc: 0.7639\n",
            "Epoch 89/100\n",
            "15462/15462 [==============================] - 20s 1ms/sample - loss: 1.3618 - acc: 0.7681\n",
            "Epoch 90/100\n",
            "15462/15462 [==============================] - 19s 1ms/sample - loss: 1.3560 - acc: 0.7667\n",
            "Epoch 91/100\n",
            "15462/15462 [==============================] - 19s 1ms/sample - loss: 1.3333 - acc: 0.7714\n",
            "Epoch 92/100\n",
            "15462/15462 [==============================] - 19s 1ms/sample - loss: 1.3233 - acc: 0.7721\n",
            "Epoch 93/100\n",
            "15462/15462 [==============================] - 20s 1ms/sample - loss: 1.3096 - acc: 0.7763\n",
            "Epoch 94/100\n",
            "15462/15462 [==============================] - 20s 1ms/sample - loss: 1.3035 - acc: 0.7768\n",
            "Epoch 95/100\n",
            "15462/15462 [==============================] - 20s 1ms/sample - loss: 1.2770 - acc: 0.7789\n",
            "Epoch 96/100\n",
            "15462/15462 [==============================] - 20s 1ms/sample - loss: 1.2639 - acc: 0.7817\n",
            "Epoch 97/100\n",
            "15462/15462 [==============================] - 20s 1ms/sample - loss: 1.2650 - acc: 0.7797\n",
            "Epoch 98/100\n",
            "15462/15462 [==============================] - 20s 1ms/sample - loss: 1.2608 - acc: 0.7839\n",
            "Epoch 99/100\n",
            "15462/15462 [==============================] - 20s 1ms/sample - loss: 1.2557 - acc: 0.7835\n",
            "Epoch 100/100\n",
            "15462/15462 [==============================] - 20s 1ms/sample - loss: 1.2447 - acc: 0.7827\n"
          ],
          "name": "stdout"
        }
      ]
    },
    {
      "cell_type": "code",
      "metadata": {
        "id": "1fXTEO3GJ282",
        "colab_type": "code",
        "outputId": "5ed26de2-924e-48dd-b033-baab50196cec",
        "colab": {
          "base_uri": "https://localhost:8080/",
          "height": 545
        }
      },
      "source": [
        "import matplotlib.pyplot as plt\n",
        "acc = history.history['acc']\n",
        "loss = history.history['loss']\n",
        "\n",
        "epochs = range(len(acc))\n",
        "\n",
        "plt.plot(epochs, acc, 'b', label='Training accuracy')\n",
        "plt.title('Training accuracy')\n",
        "\n",
        "plt.figure()\n",
        "\n",
        "plt.plot(epochs, loss, 'b', label='Training Loss')\n",
        "plt.title('Training loss')\n",
        "plt.legend()\n",
        "\n",
        "plt.show()"
      ],
      "execution_count": 0,
      "outputs": [
        {
          "output_type": "display_data",
          "data": {
            "image/png": "[encoded data removed]",
            "text/plain": [
              "<Figure size 432x288 with 1 Axes>"
            ]
          },
          "metadata": {
            "tags": []
          }
        },
        {
          "output_type": "display_data",
          "data": {
            "image/png": "[encoded data removed]",
            "text/plain": [
              "<Figure size 432x288 with 1 Axes>"
            ]
          },
          "metadata": {
            "tags": []
          }
        }
      ]
    },
    {
      "cell_type": "code",
      "metadata": {
        "id": "6Vc6PHgxa6Hm",
        "colab_type": "code",
        "outputId": "d1594305-d537-41ea-efc8-3b188e88a769",
        "colab": {
          "base_uri": "https://localhost:8080/",
          "height": 54
        }
      },
      "source": [
        "seed_text = \"Help me Obi Wan Kenobi, you're my only hope\"\n",
        "next_words = 100\n",
        "  \n",
        "for _ in range(next_words):\n",
        "\ttoken_list = tokenizer.texts_to_sequences([seed_text])[0]\n",
        "\ttoken_list = pad_sequences([token_list], maxlen=max_sequence_len-1, padding='pre')\n",
        "\tpredicted = model.predict_classes(token_list, verbose=0)\n",
        "\toutput_word = \"\"\n",
        "\tfor word, index in tokenizer.word_index.items():\n",
        "\t\tif index == predicted:\n",
        "\t\t\toutput_word = word\n",
        "\t\t\tbreak\n",
        "\tseed_text += \" \" + output_word\n",
        "print(seed_text)"
      ],
      "execution_count": 0,
      "outputs": [
        {
          "output_type": "stream",
          "text": [
            "Help me Obi Wan Kenobi, you're my only hope or me mine too give thee so chary alone so live so deem'd ' in thee are both writ live still with thee as you keeps thee for thine eyes seem true account still forbid me eyes afloat go well set me new light ' acquainted alone lived of none be seem due in me alone there ' keep well acquainted alone doth lie with her in thee so twain alone doth write her dumb make me one dwell be keep so 'will ' well doth bind mistaking live doth now die see she ' go well alone was her\n"
          ],
          "name": "stdout"
        }
      ]
    }
  ]
}