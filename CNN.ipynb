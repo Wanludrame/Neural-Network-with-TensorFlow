{
  "nbformat": 4,
  "nbformat_minor": 0,
  "metadata": {
    "colab": {
      "name": "Exercise 3 - Question.ipynb",
      "provenance": [],
      "collapsed_sections": [],
      "include_colab_link": true
    },
    "kernelspec": {
      "name": "python3",
      "display_name": "Python 3"
    }
  },
  "cells": [
    {
      "cell_type": "markdown",
      "metadata": {
        "id": "view-in-github",
        "colab_type": "text"
      },
      "source": [
        "<a href=\"https://colab.research.google.com/github/Wanludrame/Neural-Network-with-TensorFlow/blob/master/CNN.ipynb\" target=\"_parent\"><img src=\"https://colab.research.google.com/assets/colab-badge.svg\" alt=\"Open In Colab\"/></a>"
      ]
    },
    {
      "cell_type": "markdown",
      "metadata": {
        "id": "iQjHqsmTAVLU",
        "colab_type": "text"
      },
      "source": [
        "## Exercise 3\n",
        "In the videos you looked at how you would improve Fashion MNIST using Convolutions. For your exercise see if you can improve MNIST to 99.8% accuracy or more using only a single convolutional layer and a single MaxPooling 2D. You should stop training once the accuracy goes above this amount. It should happen in less than 20 epochs, so it's ok to hard code the number of epochs for training, but your training must end once it hits the above metric. If it doesn't, then you'll need to redesign your layers.\n",
        "\n",
        "I've started the code for you -- you need to finish it!\n",
        "\n",
        "When 99.8% accuracy has been hit, you should print out the string \"Reached 99.8% accuracy so cancelling training!\"\n"
      ]
    },
    {
      "cell_type": "code",
      "metadata": {
        "id": "sfQRyaJWAIdg",
        "colab_type": "code",
        "outputId": "bc3cdd72-8d20-4797-dc4d-016b065263a7",
        "colab": {
          "base_uri": "https://localhost:8080/",
          "height": 1000
        }
      },
      "source": [
        "import tensorflow as tf\n",
        "\n",
        "# YOUR CODE STARTS HERE\n",
        "class MyCallBack(tf.keras.callbacks.Callback):\n",
        "    def on_epoch_end(self, epoch, logs={}):\n",
        "        if(logs.get('acc') >= .998):\n",
        "            print('\\nReached 99.8% accuracy so cancelling training!')\n",
        "# YOUR CODE ENDS HERE\n",
        "\n",
        "mnist = tf.keras.datasets.mnist\n",
        "(training_images, training_labels), (test_images, test_labels) = mnist.load_data()\n",
        "\n",
        "# YOUR CODE STARTS HERE\n",
        "training_images = training_images.reshape(60000, 28, 28, 1)\n",
        "training_images = training_images / 255.0\n",
        "test_images = test_images.reshape(10000, 28, 28, 1)\n",
        "test_images = test_images / 225.0\n",
        "# YOUR CODE ENDS HERE\n",
        "\n",
        "model = tf.keras.models.Sequential([\n",
        "    # YOUR CODE STARTS HERE\n",
        "    tf.keras.layers.Conv2D(32, (3, 3), activation='relu', input_shape=(28, 28, 1)),\n",
        "    tf.keras.layers.MaxPooling2D(2, 2),\n",
        "    tf.keras.layers.Flatten(),\n",
        "    tf.keras.layers.Dense(128, activation='relu'),\n",
        "    tf.keras.layers.Dense(10, activation='softmax')\n",
        "    # YOUR CODE ENDS HERE\n",
        "])\n",
        "\n",
        "# YOUR CODE STARTS HERE\n",
        "model.compile(optimizer='adam', loss='sparse_categorical_crossentropy', metrics=['accuracy'])\n",
        "callbacks = MyCallBack()\n",
        "history = model.fit(\n",
        "    # YOUR CODE STARTS HERE\n",
        "    training_images, training_labels, epochs=20, callbacks=[callbacks]\n",
        "    # YOUR CODE ENDS HERE\n",
        ")\n",
        "# YOUR CODE ENDS HERE\n",
        "\n"
      ],
      "execution_count": 0,
      "outputs": [
        {
          "output_type": "display_data",
          "data": {
            "text/html": [
              "<p style=\"color: red;\">\n",
              "The default version of TensorFlow in Colab will soon switch to TensorFlow 2.x.<br>\n",
              "We recommend you <a href=\"https://www.tensorflow.org/guide/migrate\" target=\"_blank\">upgrade</a> now \n",
              "or ensure your notebook will continue to use TensorFlow 1.x via the <code>%tensorflow_version 1.x</code> magic:\n",
              "<a href=\"https://colab.research.google.com/notebooks/tensorflow_version.ipynb\" target=\"_blank\">more info</a>.</p>\n"
            ],
            "text/plain": [
              "<IPython.core.display.HTML object>"
            ]
          },
          "metadata": {
            "tags": []
          }
        },
        {
          "output_type": "stream",
          "text": [
            "Downloading data from https://storage.googleapis.com/tensorflow/tf-keras-datasets/mnist.npz\n",
            "11493376/11490434 [==============================] - 0s 0us/step\n",
            "WARNING:tensorflow:From /usr/local/lib/python3.6/dist-packages/tensorflow_core/python/ops/resource_variable_ops.py:1630: calling BaseResourceVariable.__init__ (from tensorflow.python.ops.resource_variable_ops) with constraint is deprecated and will be removed in a future version.\n",
            "Instructions for updating:\n",
            "If using Keras pass *_constraint arguments to layers.\n",
            "Train on 60000 samples\n",
            "Epoch 1/20\n",
            "60000/60000 [==============================] - 35s 577us/sample - loss: 0.1520 - acc: 0.9552\n",
            "Epoch 2/20\n",
            "60000/60000 [==============================] - 34s 564us/sample - loss: 0.0510 - acc: 0.9839\n",
            "Epoch 3/20\n",
            "60000/60000 [==============================] - 34s 568us/sample - loss: 0.0335 - acc: 0.9897\n",
            "Epoch 4/20\n",
            "60000/60000 [==============================] - 33s 556us/sample - loss: 0.0208 - acc: 0.9934\n",
            "Epoch 5/20\n",
            "60000/60000 [==============================] - 34s 559us/sample - loss: 0.0157 - acc: 0.9949\n",
            "Epoch 6/20\n",
            "60000/60000 [==============================] - 34s 566us/sample - loss: 0.0097 - acc: 0.9971\n",
            "Epoch 7/20\n",
            "60000/60000 [==============================] - 34s 564us/sample - loss: 0.0086 - acc: 0.9971\n",
            "Epoch 8/20\n",
            "60000/60000 [==============================] - 34s 561us/sample - loss: 0.0068 - acc: 0.9978\n",
            "Epoch 9/20\n",
            "59968/60000 [============================>.] - ETA: 0s - loss: 0.0049 - acc: 0.9984\n",
            "Reached 99.8% accuracy so cancelling training!\n",
            "60000/60000 [==============================] - 34s 566us/sample - loss: 0.0049 - acc: 0.9984\n",
            "Epoch 10/20\n",
            "59936/60000 [============================>.] - ETA: 0s - loss: 0.0051 - acc: 0.9983\n",
            "Reached 99.8% accuracy so cancelling training!\n",
            "60000/60000 [==============================] - 34s 566us/sample - loss: 0.0051 - acc: 0.9983\n",
            "Epoch 11/20\n",
            "59936/60000 [============================>.] - ETA: 0s - loss: 0.0040 - acc: 0.9986\n",
            "Reached 99.8% accuracy so cancelling training!\n",
            "60000/60000 [==============================] - 34s 564us/sample - loss: 0.0040 - acc: 0.9987\n",
            "Epoch 12/20\n",
            "59904/60000 [============================>.] - ETA: 0s - loss: 0.0039 - acc: 0.9986\n",
            "Reached 99.8% accuracy so cancelling training!\n",
            "60000/60000 [==============================] - 36s 602us/sample - loss: 0.0039 - acc: 0.9986\n",
            "Epoch 13/20\n",
            "59936/60000 [============================>.] - ETA: 0s - loss: 0.0027 - acc: 0.9990\n",
            "Reached 99.8% accuracy so cancelling training!\n",
            "60000/60000 [==============================] - 34s 569us/sample - loss: 0.0028 - acc: 0.9990\n",
            "Epoch 14/20\n",
            "59904/60000 [============================>.] - ETA: 0s - loss: 0.0032 - acc: 0.9991\n",
            "Reached 99.8% accuracy so cancelling training!\n",
            "60000/60000 [==============================] - 34s 565us/sample - loss: 0.0032 - acc: 0.9991\n",
            "Epoch 15/20\n",
            "59904/60000 [============================>.] - ETA: 0s - loss: 0.0040 - acc: 0.9986\n",
            "Reached 99.8% accuracy so cancelling training!\n",
            "60000/60000 [==============================] - 34s 567us/sample - loss: 0.0040 - acc: 0.9987\n",
            "Epoch 16/20\n",
            "59936/60000 [============================>.] - ETA: 0s - loss: 0.0020 - acc: 0.9993\n",
            "Reached 99.8% accuracy so cancelling training!\n",
            "60000/60000 [==============================] - 34s 569us/sample - loss: 0.0020 - acc: 0.9993\n",
            "Epoch 17/20\n",
            "59968/60000 [============================>.] - ETA: 0s - loss: 0.0016 - acc: 0.9995\n",
            "Reached 99.8% accuracy so cancelling training!\n",
            "60000/60000 [==============================] - 34s 575us/sample - loss: 0.0016 - acc: 0.9995\n",
            "Epoch 18/20\n",
            "59904/60000 [============================>.] - ETA: 0s - loss: 0.0026 - acc: 0.9993\n",
            "Reached 99.8% accuracy so cancelling training!\n",
            "60000/60000 [==============================] - 35s 575us/sample - loss: 0.0026 - acc: 0.9993\n",
            "Epoch 19/20\n",
            "59968/60000 [============================>.] - ETA: 0s - loss: 0.0026 - acc: 0.9990\n",
            "Reached 99.8% accuracy so cancelling training!\n",
            "60000/60000 [==============================] - 34s 573us/sample - loss: 0.0026 - acc: 0.9991\n",
            "Epoch 20/20\n",
            "59904/60000 [============================>.] - ETA: 0s - loss: 0.0023 - acc: 0.9992\n",
            "Reached 99.8% accuracy so cancelling training!\n",
            "60000/60000 [==============================] - 34s 573us/sample - loss: 0.0024 - acc: 0.9992\n"
          ],
          "name": "stdout"
        }
      ]
    }
  ]
}